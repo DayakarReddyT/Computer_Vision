{
 "cells": [
  {
   "cell_type": "code",
   "execution_count": null,
   "metadata": {},
   "outputs": [],
   "source": [
    "import cv2\n",
    "import numpy as np\n",
    "import dlib\n",
    "\n",
    "\n",
    "cap=cv2.VideoCapture(0)\n",
    "\n",
    "detector=dlib.get_frontal_face_detector()\n",
    "'''\n",
    "\n",
    "if you dont have \"shape_predictor_68_face_landmarks.dat\", please download it you can get it easily in google\n",
    "I can upload it but why to waste memory \n",
    "\n",
    "'''\n",
    "\n",
    "predictor=dlib.shape_detectior(\"shape_predictor_68_face_landmarks.dat\")\n",
    "\n",
    "while True:\n",
    "    \n",
    "    _,image= cap.read()\n",
    "    \n",
    "    # We don't need color image to find land marks,so converting it to GRAY to make computations faster\n",
    "  \n",
    "    gray=cv2.cvtColor(frame,cv2.COLOR_BGR2GRAY)\n",
    "    \n",
    "    faces=detector(gray)\n",
    "    \n",
    "    for face in faces:\n",
    "        x1=face.left()\n",
    "        y1=face.top()\n",
    "        x2=face.right()\n",
    "        y2=face.bottom()\n",
    "        \n",
    "        \n",
    "        landmarks=predictor(gray,face)  # here face contains coordinates, we are telling predictor to look in this region \n",
    "        \n",
    "        # This predictor will give 68 points on your face which will describe nose,mouth,eyes,etc.\n",
    "        \n",
    "        for i in range(68):\n",
    "            x=landmarks.part(i).x\n",
    "            y=landmarks.part(i).y\n",
    "            \n",
    "            # To plot circles at the detected points\n",
    "            \n",
    "            cv2.circle(frame,(x,y),3,(0,255,0),-1)\n",
    "            \n",
    "    \n",
    "    \n",
    "    cv2.imshow(\"Frame\",gray)\n",
    "    \n",
    "    key=cv2.waitKey(1)\n",
    "    \n",
    "    if(key==27):\n",
    "        cap.release()\n",
    "        cv2.destroyAllWindows()\n",
    "        break"
   ]
  }
 ],
 "metadata": {
  "kernelspec": {
   "display_name": "Python 3",
   "language": "python",
   "name": "python3"
  },
  "language_info": {
   "codemirror_mode": {
    "name": "ipython",
    "version": 3
   },
   "file_extension": ".py",
   "mimetype": "text/x-python",
   "name": "python",
   "nbconvert_exporter": "python",
   "pygments_lexer": "ipython3",
   "version": "3.7.3"
  }
 },
 "nbformat": 4,
 "nbformat_minor": 2
}
