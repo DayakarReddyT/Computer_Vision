{
  "nbformat": 4,
  "nbformat_minor": 0,
  "metadata": {
    "colab": {
      "name": "VGG_DogsVSCats.ipynb",
      "provenance": []
    },
    "kernelspec": {
      "name": "python3",
      "display_name": "Python 3"
    },
    "language_info": {
      "name": "python"
    },
    "accelerator": "GPU"
  },
  "cells": [
    {
      "cell_type": "code",
      "metadata": {
        "id": "PTNtj34z9lbv"
      },
      "source": [
        "!pip install -q kaggle\n"
      ],
      "execution_count": 43,
      "outputs": []
    },
    {
      "cell_type": "code",
      "metadata": {
        "id": "oM6sgPCpHuA-"
      },
      "source": [
        "import pandas as pd\n",
        "import numpy as np\n",
        "import matplotlib.pyplot as plt\n",
        "import seaborn as sns\n",
        "%matplotlib inline\n",
        "\n",
        "\n",
        "import glob\n",
        "\n",
        "import tensorflow as tf\n",
        "from tensorflow.keras.preprocessing.image import load_img, array_to_img\n",
        "from tensorflow.keras.preprocessing import image as tf_img\n"
      ],
      "execution_count": 44,
      "outputs": []
    },
    {
      "cell_type": "code",
      "metadata": {
        "id": "b-WU0xRn-AYn"
      },
      "source": [
        "from google.colab import files"
      ],
      "execution_count": 45,
      "outputs": []
    },
    {
      "cell_type": "code",
      "metadata": {
        "colab": {
          "resources": {
            "http://localhost:8080/nbextensions/google.colab/files.js": {
              "data": "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",
              "ok": true,
              "headers": [
                [
                  "content-type",
                  "application/javascript"
                ]
              ],
              "status": 200,
              "status_text": ""
            }
          },
          "base_uri": "https://localhost:8080/",
          "height": 89
        },
        "id": "pSBX7-Ky-EGo",
        "outputId": "80c89fb1-348d-4f59-ba4f-728829ca5ae1"
      },
      "source": [
        "files.upload()"
      ],
      "execution_count": 46,
      "outputs": [
        {
          "output_type": "display_data",
          "data": {
            "text/html": [
              "\n",
              "     <input type=\"file\" id=\"files-388ae062-e417-4558-b179-0b3d35f863d7\" name=\"files[]\" multiple disabled\n",
              "        style=\"border:none\" />\n",
              "     <output id=\"result-388ae062-e417-4558-b179-0b3d35f863d7\">\n",
              "      Upload widget is only available when the cell has been executed in the\n",
              "      current browser session. Please rerun this cell to enable.\n",
              "      </output>\n",
              "      <script src=\"/nbextensions/google.colab/files.js\"></script> "
            ],
            "text/plain": [
              "<IPython.core.display.HTML object>"
            ]
          },
          "metadata": {
            "tags": []
          }
        },
        {
          "output_type": "stream",
          "text": [
            "Saving kaggle.json to kaggle (1).json\n"
          ],
          "name": "stdout"
        },
        {
          "output_type": "execute_result",
          "data": {
            "text/plain": [
              "{'kaggle.json': b'{\"username\":\"daya07\",\"key\":\"855ccb8483bcd2c583ba56dd2043e35f\"}'}"
            ]
          },
          "metadata": {
            "tags": []
          },
          "execution_count": 46
        }
      ]
    },
    {
      "cell_type": "code",
      "metadata": {
        "id": "exWlWdwj-Loc",
        "colab": {
          "base_uri": "https://localhost:8080/"
        },
        "outputId": "67399494-37f9-4a5e-a089-74ef98f06802"
      },
      "source": [
        "!mkdir -p ~/.kaggle\n",
        "!cp kaggle.json ~/.kaggle/\n",
        "!ls ~/.kaggle\n",
        "!chmod 600 /root/.kaggle/kaggle.json"
      ],
      "execution_count": 47,
      "outputs": [
        {
          "output_type": "stream",
          "text": [
            "kaggle.json\n"
          ],
          "name": "stdout"
        }
      ]
    },
    {
      "cell_type": "code",
      "metadata": {
        "id": "hP3ph_W_-bB2",
        "colab": {
          "base_uri": "https://localhost:8080/"
        },
        "outputId": "8482ceeb-9191-4662-dd3c-39fd2a163ace"
      },
      "source": [
        "! kaggle datasets list"
      ],
      "execution_count": 48,
      "outputs": [
        {
          "output_type": "stream",
          "text": [
            "Warning: Looks like you're using an outdated API Version, please consider updating (server 1.5.12 / client 1.5.4)\n",
            "ref                                                         title                                              size  lastUpdated          downloadCount  \n",
            "----------------------------------------------------------  ------------------------------------------------  -----  -------------------  -------------  \n",
            "gpreda/reddit-vaccine-myths                                 Reddit Vaccine Myths                              222KB  2021-04-03 08:45:43           1646  \n",
            "crowww/a-large-scale-fish-dataset                           A Large Scale Fish Dataset                          3GB  2021-02-17 16:10:44           1090  \n",
            "dhruvildave/wikibooks-dataset                               Wikibooks Dataset                                   1GB  2021-02-18 10:08:27            865  \n",
            "imsparsh/musicnet-dataset                                   MusicNet Dataset                                   22GB  2021-02-18 14:12:19            384  \n",
            "promptcloud/careerbuilder-job-listing-2020                  Careerbuilder Job Listing 2020                     42MB  2021-03-05 06:59:52            136  \n",
            "alsgroup/end-als                                            End ALS Kaggle Challenge                           12GB  2021-03-16 22:31:35            177  \n",
            "mathurinache/twitter-edge-nodes                             Twitter Edge Nodes                                342MB  2021-03-08 06:43:04             77  \n",
            "simiotic/github-code-snippets                               GitHub Code Snippets                                7GB  2021-03-03 11:34:39             39  \n",
            "fatiimaezzahra/famous-iconic-women                          Famous Iconic Women                               838MB  2021-02-28 14:56:00            295  \n",
            "mathurinache/the-lj-speech-dataset                          The LJ Speech Dataset                               3GB  2021-02-15 09:19:54             68  \n",
            "nickuzmenkov/nih-chest-xrays-tfrecords                      NIH Chest X-rays TFRecords                         11GB  2021-03-09 04:49:23            177  \n",
            "nickuzmenkov/ranzcr-clip-kfold-tfrecords                    RANZCR CLiP KFold TFRecords                         2GB  2021-02-21 13:29:51             45  \n",
            "coloradokb/dandelionimages                                  DandelionImages                                     4GB  2021-02-19 20:03:47            124  \n",
            "stuartjames/lights                                          LightS: Light Specularity Dataset                  18GB  2021-02-18 14:32:26             26  \n",
            "landrykezebou/lvzhdr-tone-mapping-benchmark-dataset-tmonet  LVZ-HDR Tone Mapping Benchmark Dataset (TMO-Net)   24GB  2021-03-01 05:03:40             38  \n",
            "imsparsh/accentdb-core-extended                             AccentDB - Core & Extended                          6GB  2021-02-17 14:22:54             28  \n",
            "shivamb/netflix-shows                                       Netflix Movies and TV Shows                         1MB  2021-01-18 16:20:26         126617  \n",
            "jsphyg/weather-dataset-rattle-package                       Rain in Australia                                   4MB  2020-12-11 10:26:12          42903  \n",
            "arashnic/hr-analytics-job-change-of-data-scientists         HR Analytics: Job Change of Data Scientists       295KB  2020-12-07 00:25:10          18285  \n",
            "datasnaek/youtube-new                                       Trending YouTube Video Statistics                 201MB  2019-06-03 00:56:47         133316  \n"
          ],
          "name": "stdout"
        }
      ]
    },
    {
      "cell_type": "code",
      "metadata": {
        "id": "RgTC3KXt-wAA",
        "colab": {
          "base_uri": "https://localhost:8080/"
        },
        "outputId": "3aacc2bc-b0ce-49f8-fdee-bff96aecb685"
      },
      "source": [
        "!kaggle datasets download -d biaiscience/dogs-vs-cats"
      ],
      "execution_count": 49,
      "outputs": [
        {
          "output_type": "stream",
          "text": [
            "dogs-vs-cats.zip: Skipping, found more recently modified local copy (use --force to force download)\n"
          ],
          "name": "stdout"
        }
      ]
    },
    {
      "cell_type": "code",
      "metadata": {
        "id": "UKRM2HuT-9DS",
        "colab": {
          "base_uri": "https://localhost:8080/"
        },
        "outputId": "81756641-ca54-43b0-c1bc-9d3efb830e07"
      },
      "source": [
        "!ls"
      ],
      "execution_count": 50,
      "outputs": [
        {
          "output_type": "stream",
          "text": [
            " dogs-vs-cats.zip  'kaggle (1).json'   kaggle.json   sample_data   test   train\n"
          ],
          "name": "stdout"
        }
      ]
    },
    {
      "cell_type": "code",
      "metadata": {
        "id": "ZyGrkJ-pAhC3",
        "colab": {
          "base_uri": "https://localhost:8080/"
        },
        "outputId": "cc56c5c7-0a80-4279-cd87-8d024b760569"
      },
      "source": [
        "!unzip 'dogs-vs-cats.zip'"
      ],
      "execution_count": 51,
      "outputs": [
        {
          "output_type": "stream",
          "text": [
            "Archive:  dogs-vs-cats.zip\n",
            "replace test/test/1.jpg? [y]es, [n]o, [A]ll, [N]one, [r]ename: "
          ],
          "name": "stdout"
        }
      ]
    },
    {
      "cell_type": "code",
      "metadata": {
        "id": "7HVWjSppBcWi"
      },
      "source": [
        "!cd train"
      ],
      "execution_count": 53,
      "outputs": []
    },
    {
      "cell_type": "code",
      "metadata": {
        "colab": {
          "base_uri": "https://localhost:8080/"
        },
        "id": "1NdeiqwmBggr",
        "outputId": "6465e0d5-e534-4ec4-cfa7-436df2eba397"
      },
      "source": [
        "!ls"
      ],
      "execution_count": 54,
      "outputs": [
        {
          "output_type": "stream",
          "text": [
            " dogs-vs-cats.zip  'kaggle (1).json'   kaggle.json   sample_data   test   train\n"
          ],
          "name": "stdout"
        }
      ]
    },
    {
      "cell_type": "code",
      "metadata": {
        "id": "wggfDS74Blir"
      },
      "source": [
        "import glob\n",
        "img_path=[]\n",
        "image_name=[]\n",
        "object_name=[]\n",
        "label=[]\n",
        "for file in glob.glob('/content/train/train/*'):\n",
        "  img_path.append(file)\n",
        "  name=str(file.split('/')[4])\n",
        "  image_name.append(name)\n",
        "  obj_name=str(name.split('.')[0])\n",
        "  object_name.append(obj_name)\n",
        "  if(obj_name=='cat'):\n",
        "    label.append(0)\n",
        "  else:\n",
        "    label.append(1)\n",
        "  "
      ],
      "execution_count": 62,
      "outputs": []
    },
    {
      "cell_type": "code",
      "metadata": {
        "colab": {
          "base_uri": "https://localhost:8080/"
        },
        "id": "9qaI6MFMEuRB",
        "outputId": "0808bf83-d23d-493d-abb1-52ed6fe68be0"
      },
      "source": [
        "len(image_name)"
      ],
      "execution_count": 63,
      "outputs": [
        {
          "output_type": "execute_result",
          "data": {
            "text/plain": [
              "25000"
            ]
          },
          "metadata": {
            "tags": []
          },
          "execution_count": 63
        }
      ]
    },
    {
      "cell_type": "code",
      "metadata": {
        "colab": {
          "base_uri": "https://localhost:8080/",
          "height": 204
        },
        "id": "rxhvHcP2G_il",
        "outputId": "67063a49-ebd9-4a9a-f1b3-16145512e6b0"
      },
      "source": [
        "# Let's create an dataframe\n",
        "\n",
        "data=pd.DataFrame()\n",
        "\n",
        "data['Path']=img_path\n",
        "data['Name']=image_name\n",
        "data['Object']=object_name\n",
        "data['label']=label\n",
        "\n",
        "data.head()"
      ],
      "execution_count": 64,
      "outputs": [
        {
          "output_type": "execute_result",
          "data": {
            "text/html": [
              "<div>\n",
              "<style scoped>\n",
              "    .dataframe tbody tr th:only-of-type {\n",
              "        vertical-align: middle;\n",
              "    }\n",
              "\n",
              "    .dataframe tbody tr th {\n",
              "        vertical-align: top;\n",
              "    }\n",
              "\n",
              "    .dataframe thead th {\n",
              "        text-align: right;\n",
              "    }\n",
              "</style>\n",
              "<table border=\"1\" class=\"dataframe\">\n",
              "  <thead>\n",
              "    <tr style=\"text-align: right;\">\n",
              "      <th></th>\n",
              "      <th>Path</th>\n",
              "      <th>Name</th>\n",
              "      <th>Object</th>\n",
              "      <th>label</th>\n",
              "    </tr>\n",
              "  </thead>\n",
              "  <tbody>\n",
              "    <tr>\n",
              "      <th>0</th>\n",
              "      <td>/content/train/train/cat.7191.jpg</td>\n",
              "      <td>cat.7191.jpg</td>\n",
              "      <td>cat</td>\n",
              "      <td>0</td>\n",
              "    </tr>\n",
              "    <tr>\n",
              "      <th>1</th>\n",
              "      <td>/content/train/train/cat.5733.jpg</td>\n",
              "      <td>cat.5733.jpg</td>\n",
              "      <td>cat</td>\n",
              "      <td>0</td>\n",
              "    </tr>\n",
              "    <tr>\n",
              "      <th>2</th>\n",
              "      <td>/content/train/train/dog.9624.jpg</td>\n",
              "      <td>dog.9624.jpg</td>\n",
              "      <td>dog</td>\n",
              "      <td>1</td>\n",
              "    </tr>\n",
              "    <tr>\n",
              "      <th>3</th>\n",
              "      <td>/content/train/train/dog.5069.jpg</td>\n",
              "      <td>dog.5069.jpg</td>\n",
              "      <td>dog</td>\n",
              "      <td>1</td>\n",
              "    </tr>\n",
              "    <tr>\n",
              "      <th>4</th>\n",
              "      <td>/content/train/train/dog.8989.jpg</td>\n",
              "      <td>dog.8989.jpg</td>\n",
              "      <td>dog</td>\n",
              "      <td>1</td>\n",
              "    </tr>\n",
              "  </tbody>\n",
              "</table>\n",
              "</div>"
            ],
            "text/plain": [
              "                                Path          Name Object  label\n",
              "0  /content/train/train/cat.7191.jpg  cat.7191.jpg    cat      0\n",
              "1  /content/train/train/cat.5733.jpg  cat.5733.jpg    cat      0\n",
              "2  /content/train/train/dog.9624.jpg  dog.9624.jpg    dog      1\n",
              "3  /content/train/train/dog.5069.jpg  dog.5069.jpg    dog      1\n",
              "4  /content/train/train/dog.8989.jpg  dog.8989.jpg    dog      1"
            ]
          },
          "metadata": {
            "tags": []
          },
          "execution_count": 64
        }
      ]
    },
    {
      "cell_type": "code",
      "metadata": {
        "id": "yfpht89aHtCn"
      },
      "source": [
        "# Let's define some parameters\n",
        "\n",
        "IMAGE_HEIGHT=128\n",
        "IMAGE_WIDTH=128\n",
        "BATCH_SIZE=64"
      ],
      "execution_count": 65,
      "outputs": []
    },
    {
      "cell_type": "code",
      "metadata": {
        "colab": {
          "base_uri": "https://localhost:8080/",
          "height": 52
        },
        "id": "94CrJTY5HAlj",
        "outputId": "d2822a91-84a7-42ed-a65b-f31176eccc2e"
      },
      "source": [
        "\n",
        "from sklearn.model_selection import train_test_split\n",
        "\n",
        "data['label']=data['label'].astype('str')\n",
        "# Splitting the data into train and test \n",
        "train_data,test_data=train_test_split(data,stratify=data['label'],test_size=0.08)\n",
        "\n",
        "\n",
        "'''\n",
        "train_data.shape\n",
        "train_data['label']=train_data['label'].astype('str')\n",
        "test_data['label']=test_data['label'].astype('str')\n",
        "'''"
      ],
      "execution_count": 89,
      "outputs": [
        {
          "output_type": "execute_result",
          "data": {
            "application/vnd.google.colaboratory.intrinsic+json": {
              "type": "string"
            },
            "text/plain": [
              "\"\\ntrain_data.shape\\ntrain_data['label']=train_data['label'].astype('str')\\ntest_data['label']=test_data['label'].astype('str')\\n\""
            ]
          },
          "metadata": {
            "tags": []
          },
          "execution_count": 89
        }
      ]
    },
    {
      "cell_type": "code",
      "metadata": {
        "colab": {
          "base_uri": "https://localhost:8080/"
        },
        "id": "rlCCBDz5HBK4",
        "outputId": "78168d64-eafe-4836-d88e-7971138544ca"
      },
      "source": [
        "from keras.preprocessing.image import ImageDataGenerator\n",
        "\n",
        "train_datagen = ImageDataGenerator(\n",
        "                    rescale=1./255,\n",
        "                    rotation_range=45,\n",
        "                    width_shift_range=.15,\n",
        "                    height_shift_range=.15,\n",
        "                    horizontal_flip=True,\n",
        "                    zoom_range=0.5\n",
        "                    )\n",
        "\n",
        "'''\n",
        "valid_datagen = ImageDataGenerator(\n",
        "                    rescale=1./255,\n",
        "                    rotation_range=45,\n",
        "                    width_shift_range=.15,\n",
        "                    height_shift_range=.15,\n",
        "                    horizontal_flip=True,\n",
        "                    zoom_range=0.2\n",
        "                    )\n",
        "                    '''\n",
        "\n",
        "\n",
        "test_datagen = ImageDataGenerator(rescale = 1./255)\n",
        "\n",
        "training_set =  train_datagen.flow_from_dataframe(dataframe=train_data,batch_size=BATCH_SIZE,\n",
        "                                                  x_col='Path',y_col='label',\n",
        "                                                     shuffle=True,\n",
        "                                                     target_size=(IMAGE_HEIGHT, IMAGE_WIDTH),\n",
        "                                                     class_mode='binary')\n",
        "'''\n",
        "validation_set=valid_datagen.flow_from_dataframe(dataframe=valid_data,batch_size=BATCH_SIZE,\n",
        "                                                  x_col='Path',y_col='label',\n",
        "                                                     shuffle=True,\n",
        "                                                     target_size=(IMAGE_HEIGHT, IMAGE_WIDTH),\n",
        "                                                     class_mode='binary')\n",
        "                                                     '''\n",
        "\n",
        "test_set = test_datagen.flow_from_dataframe(dataframe=test_data,batch_size=BATCH_SIZE,\n",
        "                                                     x_col='Path',y_col='label',\n",
        "                                                     shuffle=True,\n",
        "                                                     target_size=(IMAGE_HEIGHT, IMAGE_WIDTH),\n",
        "                                                     class_mode='binary')\n"
      ],
      "execution_count": 90,
      "outputs": [
        {
          "output_type": "stream",
          "text": [
            "Found 23000 validated image filenames belonging to 2 classes.\n",
            "Found 2000 validated image filenames belonging to 2 classes.\n"
          ],
          "name": "stdout"
        }
      ]
    },
    {
      "cell_type": "code",
      "metadata": {
        "colab": {
          "base_uri": "https://localhost:8080/"
        },
        "id": "9-ztL1iwUL3Q",
        "outputId": "f65a8d55-6d07-4bc9-c659-5840804ba629"
      },
      "source": [
        "from tensorflow.keras.applications import VGG16\n",
        "from tensorflow.keras import layers\n",
        "\n",
        "pre_trained_model = VGG16(input_shape=(IMAGE_WIDTH,IMAGE_HEIGHT,3), include_top=False, weights=\"imagenet\")\n",
        "    \n",
        "for layer in pre_trained_model.layers[:15]:\n",
        "    layer.trainable = False\n",
        "\n",
        "for layer in pre_trained_model.layers[15:]:\n",
        "    layer.trainable = True\n",
        "    \n",
        "last_layer = pre_trained_model.get_layer('block5_pool')\n",
        "last_output = last_layer.output\n",
        "x = layers.Flatten()(last_output)\n",
        "x = layers.Dense(512, activation='relu')(x)\n",
        "x = layers.Dropout(0.5)(x)\n",
        "x = layers.Dense(1, activation='sigmoid')(x)\n",
        "\n",
        "vggmodel = tf.keras.models.Model(pre_trained_model.input, x)\n",
        "\n",
        "vggmodel.compile(loss='binary_crossentropy',\n",
        "              optimizer=tf.keras.optimizers.SGD(lr=1e-4, momentum=0.9),\n",
        "              metrics=['accuracy'])\n",
        "\n",
        "vggmodel.summary()"
      ],
      "execution_count": 91,
      "outputs": [
        {
          "output_type": "stream",
          "text": [
            "Model: \"model_3\"\n",
            "_________________________________________________________________\n",
            "Layer (type)                 Output Shape              Param #   \n",
            "=================================================================\n",
            "input_5 (InputLayer)         [(None, 128, 128, 3)]     0         \n",
            "_________________________________________________________________\n",
            "block1_conv1 (Conv2D)        (None, 128, 128, 64)      1792      \n",
            "_________________________________________________________________\n",
            "block1_conv2 (Conv2D)        (None, 128, 128, 64)      36928     \n",
            "_________________________________________________________________\n",
            "block1_pool (MaxPooling2D)   (None, 64, 64, 64)        0         \n",
            "_________________________________________________________________\n",
            "block2_conv1 (Conv2D)        (None, 64, 64, 128)       73856     \n",
            "_________________________________________________________________\n",
            "block2_conv2 (Conv2D)        (None, 64, 64, 128)       147584    \n",
            "_________________________________________________________________\n",
            "block2_pool (MaxPooling2D)   (None, 32, 32, 128)       0         \n",
            "_________________________________________________________________\n",
            "block3_conv1 (Conv2D)        (None, 32, 32, 256)       295168    \n",
            "_________________________________________________________________\n",
            "block3_conv2 (Conv2D)        (None, 32, 32, 256)       590080    \n",
            "_________________________________________________________________\n",
            "block3_conv3 (Conv2D)        (None, 32, 32, 256)       590080    \n",
            "_________________________________________________________________\n",
            "block3_pool (MaxPooling2D)   (None, 16, 16, 256)       0         \n",
            "_________________________________________________________________\n",
            "block4_conv1 (Conv2D)        (None, 16, 16, 512)       1180160   \n",
            "_________________________________________________________________\n",
            "block4_conv2 (Conv2D)        (None, 16, 16, 512)       2359808   \n",
            "_________________________________________________________________\n",
            "block4_conv3 (Conv2D)        (None, 16, 16, 512)       2359808   \n",
            "_________________________________________________________________\n",
            "block4_pool (MaxPooling2D)   (None, 8, 8, 512)         0         \n",
            "_________________________________________________________________\n",
            "block5_conv1 (Conv2D)        (None, 8, 8, 512)         2359808   \n",
            "_________________________________________________________________\n",
            "block5_conv2 (Conv2D)        (None, 8, 8, 512)         2359808   \n",
            "_________________________________________________________________\n",
            "block5_conv3 (Conv2D)        (None, 8, 8, 512)         2359808   \n",
            "_________________________________________________________________\n",
            "block5_pool (MaxPooling2D)   (None, 4, 4, 512)         0         \n",
            "_________________________________________________________________\n",
            "flatten_3 (Flatten)          (None, 8192)              0         \n",
            "_________________________________________________________________\n",
            "dense_6 (Dense)              (None, 512)               4194816   \n",
            "_________________________________________________________________\n",
            "dropout_3 (Dropout)          (None, 512)               0         \n",
            "_________________________________________________________________\n",
            "dense_7 (Dense)              (None, 1)                 513       \n",
            "=================================================================\n",
            "Total params: 18,910,017\n",
            "Trainable params: 11,274,753\n",
            "Non-trainable params: 7,635,264\n",
            "_________________________________________________________________\n"
          ],
          "name": "stdout"
        }
      ]
    },
    {
      "cell_type": "code",
      "metadata": {
        "colab": {
          "base_uri": "https://localhost:8080/"
        },
        "id": "cjWXgl21siIK",
        "outputId": "cb1ae79f-30f8-44fa-a807-d30dabb32418"
      },
      "source": [
        "vgghist = vggmodel.fit(\n",
        "  training_set,\n",
        "  epochs=20,\n",
        "  validation_data=validation_set\n",
        ")"
      ],
      "execution_count": 98,
      "outputs": [
        {
          "output_type": "stream",
          "text": [
            "Epoch 1/20\n",
            "360/360 [==============================] - 152s 422ms/step - loss: 0.5866 - accuracy: 0.6782 - val_loss: 0.4204 - val_accuracy: 0.8165\n",
            "Epoch 2/20\n",
            "360/360 [==============================] - 146s 405ms/step - loss: 0.4404 - accuracy: 0.7939 - val_loss: 0.3303 - val_accuracy: 0.8574\n",
            "Epoch 3/20\n",
            "360/360 [==============================] - 146s 405ms/step - loss: 0.3879 - accuracy: 0.8232 - val_loss: 0.2998 - val_accuracy: 0.8652\n",
            "Epoch 4/20\n",
            "360/360 [==============================] - 146s 405ms/step - loss: 0.3598 - accuracy: 0.8399 - val_loss: 0.2890 - val_accuracy: 0.8761\n",
            "Epoch 5/20\n",
            "360/360 [==============================] - 146s 405ms/step - loss: 0.3416 - accuracy: 0.8482 - val_loss: 0.2847 - val_accuracy: 0.8778\n",
            "Epoch 6/20\n",
            "360/360 [==============================] - 146s 404ms/step - loss: 0.3265 - accuracy: 0.8575 - val_loss: 0.2618 - val_accuracy: 0.8848\n",
            "Epoch 7/20\n",
            "360/360 [==============================] - 146s 405ms/step - loss: 0.3196 - accuracy: 0.8593 - val_loss: 0.2594 - val_accuracy: 0.8930\n",
            "Epoch 8/20\n",
            "360/360 [==============================] - 146s 405ms/step - loss: 0.3085 - accuracy: 0.8645 - val_loss: 0.2387 - val_accuracy: 0.9013\n",
            "Epoch 9/20\n",
            "360/360 [==============================] - 146s 405ms/step - loss: 0.2957 - accuracy: 0.8719 - val_loss: 0.2295 - val_accuracy: 0.9035\n",
            "Epoch 10/20\n",
            "360/360 [==============================] - 146s 406ms/step - loss: 0.2951 - accuracy: 0.8720 - val_loss: 0.2326 - val_accuracy: 0.9035\n",
            "Epoch 11/20\n",
            "360/360 [==============================] - 145s 404ms/step - loss: 0.2862 - accuracy: 0.8780 - val_loss: 0.2525 - val_accuracy: 0.8917\n",
            "Epoch 12/20\n",
            "360/360 [==============================] - 146s 405ms/step - loss: 0.2819 - accuracy: 0.8759 - val_loss: 0.2292 - val_accuracy: 0.8970\n",
            "Epoch 13/20\n",
            "360/360 [==============================] - 145s 404ms/step - loss: 0.2770 - accuracy: 0.8804 - val_loss: 0.2245 - val_accuracy: 0.9013\n",
            "Epoch 14/20\n",
            "360/360 [==============================] - 145s 404ms/step - loss: 0.2780 - accuracy: 0.8787 - val_loss: 0.2150 - val_accuracy: 0.9091\n",
            "Epoch 15/20\n",
            "360/360 [==============================] - 145s 403ms/step - loss: 0.2660 - accuracy: 0.8859 - val_loss: 0.2098 - val_accuracy: 0.9183\n",
            "Epoch 16/20\n",
            "360/360 [==============================] - 146s 405ms/step - loss: 0.2678 - accuracy: 0.8852 - val_loss: 0.2011 - val_accuracy: 0.9165\n",
            "Epoch 17/20\n",
            "360/360 [==============================] - 145s 404ms/step - loss: 0.2601 - accuracy: 0.8876 - val_loss: 0.1974 - val_accuracy: 0.9209\n",
            "Epoch 18/20\n",
            "360/360 [==============================] - 145s 404ms/step - loss: 0.2564 - accuracy: 0.8903 - val_loss: 0.1975 - val_accuracy: 0.9139\n",
            "Epoch 19/20\n",
            "360/360 [==============================] - 146s 406ms/step - loss: 0.2498 - accuracy: 0.8926 - val_loss: 0.2017 - val_accuracy: 0.9170\n",
            "Epoch 20/20\n",
            "360/360 [==============================] - 146s 406ms/step - loss: 0.2499 - accuracy: 0.8942 - val_loss: 0.1951 - val_accuracy: 0.9230\n"
          ],
          "name": "stdout"
        }
      ]
    },
    {
      "cell_type": "code",
      "metadata": {
        "id": "wEQEkdm6ud_t"
      },
      "source": [
        "train_loss=vgghist.history['loss']\n",
        "cv_loss=vgghist.history['val_loss']\n",
        "\n",
        "train_acc=vgghist.history['accuracy']\n",
        "cv_acc=vgghist.history['val_accuracy']\n"
      ],
      "execution_count": 99,
      "outputs": []
    },
    {
      "cell_type": "code",
      "metadata": {
        "colab": {
          "base_uri": "https://localhost:8080/",
          "height": 669
        },
        "id": "gcHzIl1bMZ7N",
        "outputId": "14de019e-d72d-4349-88d9-6bbd19878063"
      },
      "source": [
        "# printing a table depicting the detail about the trained model\n",
        "log_frame = pd.DataFrame(columns = [\"Epoch\", \"Train_Loss\", \"Train_Accuracy\", \"CV_Loss\", \"CV_Accuracy\"])\n",
        "log_frame[\"Epoch\"] = list(range(1,21)) # we have 20 epochs started from 1 \n",
        "log_frame[\"Train_Loss\"] = train_loss\n",
        "log_frame[\"Train_Accuracy\"] = train_acc\n",
        "log_frame[\"CV_Loss\"] = cv_loss\n",
        "log_frame[\"CV_Accuracy\"] = cv_acc \n",
        "log_frame"
      ],
      "execution_count": 100,
      "outputs": [
        {
          "output_type": "execute_result",
          "data": {
            "text/html": [
              "<div>\n",
              "<style scoped>\n",
              "    .dataframe tbody tr th:only-of-type {\n",
              "        vertical-align: middle;\n",
              "    }\n",
              "\n",
              "    .dataframe tbody tr th {\n",
              "        vertical-align: top;\n",
              "    }\n",
              "\n",
              "    .dataframe thead th {\n",
              "        text-align: right;\n",
              "    }\n",
              "</style>\n",
              "<table border=\"1\" class=\"dataframe\">\n",
              "  <thead>\n",
              "    <tr style=\"text-align: right;\">\n",
              "      <th></th>\n",
              "      <th>Epoch</th>\n",
              "      <th>Train_Loss</th>\n",
              "      <th>Train_Accuracy</th>\n",
              "      <th>CV_Loss</th>\n",
              "      <th>CV_Accuracy</th>\n",
              "    </tr>\n",
              "  </thead>\n",
              "  <tbody>\n",
              "    <tr>\n",
              "      <th>0</th>\n",
              "      <td>1</td>\n",
              "      <td>0.586632</td>\n",
              "      <td>0.678217</td>\n",
              "      <td>0.420429</td>\n",
              "      <td>0.816522</td>\n",
              "    </tr>\n",
              "    <tr>\n",
              "      <th>1</th>\n",
              "      <td>2</td>\n",
              "      <td>0.440384</td>\n",
              "      <td>0.793913</td>\n",
              "      <td>0.330311</td>\n",
              "      <td>0.857391</td>\n",
              "    </tr>\n",
              "    <tr>\n",
              "      <th>2</th>\n",
              "      <td>3</td>\n",
              "      <td>0.387884</td>\n",
              "      <td>0.823217</td>\n",
              "      <td>0.299836</td>\n",
              "      <td>0.865217</td>\n",
              "    </tr>\n",
              "    <tr>\n",
              "      <th>3</th>\n",
              "      <td>4</td>\n",
              "      <td>0.359825</td>\n",
              "      <td>0.839913</td>\n",
              "      <td>0.288961</td>\n",
              "      <td>0.876087</td>\n",
              "    </tr>\n",
              "    <tr>\n",
              "      <th>4</th>\n",
              "      <td>5</td>\n",
              "      <td>0.341594</td>\n",
              "      <td>0.848217</td>\n",
              "      <td>0.284695</td>\n",
              "      <td>0.877826</td>\n",
              "    </tr>\n",
              "    <tr>\n",
              "      <th>5</th>\n",
              "      <td>6</td>\n",
              "      <td>0.326548</td>\n",
              "      <td>0.857478</td>\n",
              "      <td>0.261810</td>\n",
              "      <td>0.884783</td>\n",
              "    </tr>\n",
              "    <tr>\n",
              "      <th>6</th>\n",
              "      <td>7</td>\n",
              "      <td>0.319610</td>\n",
              "      <td>0.859304</td>\n",
              "      <td>0.259430</td>\n",
              "      <td>0.893043</td>\n",
              "    </tr>\n",
              "    <tr>\n",
              "      <th>7</th>\n",
              "      <td>8</td>\n",
              "      <td>0.308532</td>\n",
              "      <td>0.864478</td>\n",
              "      <td>0.238685</td>\n",
              "      <td>0.901304</td>\n",
              "    </tr>\n",
              "    <tr>\n",
              "      <th>8</th>\n",
              "      <td>9</td>\n",
              "      <td>0.295655</td>\n",
              "      <td>0.871870</td>\n",
              "      <td>0.229548</td>\n",
              "      <td>0.903478</td>\n",
              "    </tr>\n",
              "    <tr>\n",
              "      <th>9</th>\n",
              "      <td>10</td>\n",
              "      <td>0.295059</td>\n",
              "      <td>0.872043</td>\n",
              "      <td>0.232624</td>\n",
              "      <td>0.903478</td>\n",
              "    </tr>\n",
              "    <tr>\n",
              "      <th>10</th>\n",
              "      <td>11</td>\n",
              "      <td>0.286167</td>\n",
              "      <td>0.878000</td>\n",
              "      <td>0.252458</td>\n",
              "      <td>0.891739</td>\n",
              "    </tr>\n",
              "    <tr>\n",
              "      <th>11</th>\n",
              "      <td>12</td>\n",
              "      <td>0.281941</td>\n",
              "      <td>0.875913</td>\n",
              "      <td>0.229240</td>\n",
              "      <td>0.896957</td>\n",
              "    </tr>\n",
              "    <tr>\n",
              "      <th>12</th>\n",
              "      <td>13</td>\n",
              "      <td>0.276972</td>\n",
              "      <td>0.880391</td>\n",
              "      <td>0.224542</td>\n",
              "      <td>0.901304</td>\n",
              "    </tr>\n",
              "    <tr>\n",
              "      <th>13</th>\n",
              "      <td>14</td>\n",
              "      <td>0.278029</td>\n",
              "      <td>0.878696</td>\n",
              "      <td>0.215001</td>\n",
              "      <td>0.909130</td>\n",
              "    </tr>\n",
              "    <tr>\n",
              "      <th>14</th>\n",
              "      <td>15</td>\n",
              "      <td>0.266034</td>\n",
              "      <td>0.885913</td>\n",
              "      <td>0.209829</td>\n",
              "      <td>0.918261</td>\n",
              "    </tr>\n",
              "    <tr>\n",
              "      <th>15</th>\n",
              "      <td>16</td>\n",
              "      <td>0.267769</td>\n",
              "      <td>0.885174</td>\n",
              "      <td>0.201055</td>\n",
              "      <td>0.916522</td>\n",
              "    </tr>\n",
              "    <tr>\n",
              "      <th>16</th>\n",
              "      <td>17</td>\n",
              "      <td>0.260052</td>\n",
              "      <td>0.887609</td>\n",
              "      <td>0.197389</td>\n",
              "      <td>0.920870</td>\n",
              "    </tr>\n",
              "    <tr>\n",
              "      <th>17</th>\n",
              "      <td>18</td>\n",
              "      <td>0.256396</td>\n",
              "      <td>0.890261</td>\n",
              "      <td>0.197512</td>\n",
              "      <td>0.913913</td>\n",
              "    </tr>\n",
              "    <tr>\n",
              "      <th>18</th>\n",
              "      <td>19</td>\n",
              "      <td>0.249837</td>\n",
              "      <td>0.892609</td>\n",
              "      <td>0.201689</td>\n",
              "      <td>0.916957</td>\n",
              "    </tr>\n",
              "    <tr>\n",
              "      <th>19</th>\n",
              "      <td>20</td>\n",
              "      <td>0.249874</td>\n",
              "      <td>0.894217</td>\n",
              "      <td>0.195064</td>\n",
              "      <td>0.923043</td>\n",
              "    </tr>\n",
              "  </tbody>\n",
              "</table>\n",
              "</div>"
            ],
            "text/plain": [
              "    Epoch  Train_Loss  Train_Accuracy   CV_Loss  CV_Accuracy\n",
              "0       1    0.586632        0.678217  0.420429     0.816522\n",
              "1       2    0.440384        0.793913  0.330311     0.857391\n",
              "2       3    0.387884        0.823217  0.299836     0.865217\n",
              "3       4    0.359825        0.839913  0.288961     0.876087\n",
              "4       5    0.341594        0.848217  0.284695     0.877826\n",
              "5       6    0.326548        0.857478  0.261810     0.884783\n",
              "6       7    0.319610        0.859304  0.259430     0.893043\n",
              "7       8    0.308532        0.864478  0.238685     0.901304\n",
              "8       9    0.295655        0.871870  0.229548     0.903478\n",
              "9      10    0.295059        0.872043  0.232624     0.903478\n",
              "10     11    0.286167        0.878000  0.252458     0.891739\n",
              "11     12    0.281941        0.875913  0.229240     0.896957\n",
              "12     13    0.276972        0.880391  0.224542     0.901304\n",
              "13     14    0.278029        0.878696  0.215001     0.909130\n",
              "14     15    0.266034        0.885913  0.209829     0.918261\n",
              "15     16    0.267769        0.885174  0.201055     0.916522\n",
              "16     17    0.260052        0.887609  0.197389     0.920870\n",
              "17     18    0.256396        0.890261  0.197512     0.913913\n",
              "18     19    0.249837        0.892609  0.201689     0.916957\n",
              "19     20    0.249874        0.894217  0.195064     0.923043"
            ]
          },
          "metadata": {
            "tags": []
          },
          "execution_count": 100
        }
      ]
    },
    {
      "cell_type": "code",
      "metadata": {
        "colab": {
          "base_uri": "https://localhost:8080/",
          "height": 458
        },
        "id": "SaEeyfsJM5dT",
        "outputId": "527342d5-8060-4626-f54f-cb77cce38f0b"
      },
      "source": [
        "# Plotting Epochs vs Loss\n",
        "\n",
        "def plotting(epoch,train_los,val_los):\n",
        "    plt.figure(figsize=(10,7))\n",
        "    plt.plot(epoch,train_los,color='orange',label='Train')\n",
        "    plt.plot(epoch,val_los,color='green',label='CV')\n",
        "    plt.grid()\n",
        "    plt.title(\"Epochs VS Loss\")\n",
        "    plt.xlabel('Epochs')\n",
        "    plt.ylabel('Loss')\n",
        "    plt.legend()\n",
        "\n",
        "plotting(log_frame['Epoch'],log_frame['Train_Loss'],log_frame['CV_Loss'])"
      ],
      "execution_count": 101,
      "outputs": [
        {
          "output_type": "display_data",
          "data": {
            "image/png": "[encoded data removed]",
            "text/plain": [
              "<Figure size 720x504 with 1 Axes>"
            ]
          },
          "metadata": {
            "tags": [],
            "needs_background": "light"
          }
        }
      ]
    },
    {
      "cell_type": "code",
      "metadata": {
        "colab": {
          "base_uri": "https://localhost:8080/",
          "height": 442
        },
        "id": "KB8m8US3NAhW",
        "outputId": "1bc76469-e764-4a79-9dec-ddfcac00e09b"
      },
      "source": [
        "# Plotting Epoch Vs Accuracy\n",
        "\n",
        "def plot_acc(epoch,train_ac,val_ac):\n",
        "    plt.figure(figsize=(10,7))\n",
        "    plt.plot(epoch,train_ac,color='orange',label='Train')\n",
        "    plt.plot(epoch,val_ac,color='green',label='CV')\n",
        "    plt.xlabel('Epochs')\n",
        "    plt.ylabel('Accuracy')\n",
        "    plt.grid()\n",
        "    plt.legend()\n",
        "    \n",
        "plot_acc(log_frame['Epoch'],log_frame['Train_Accuracy'],log_frame['CV_Accuracy'])"
      ],
      "execution_count": 102,
      "outputs": [
        {
          "output_type": "display_data",
          "data": {
            "image/png": "[encoded data removed]",
            "text/plain": [
              "<Figure size 720x504 with 1 Axes>"
            ]
          },
          "metadata": {
            "tags": [],
            "needs_background": "light"
          }
        }
      ]
    }
  ]
}